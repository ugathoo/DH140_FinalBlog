{
 "cells": [
  {
   "cell_type": "markdown",
   "id": "73312000",
   "metadata": {},
   "source": [
    "# Forest Fire Factors: What Adds Fuel to the Fire?\n",
    "  Urja Gathoo | August 2, 2024"
   ]
  },
  {
   "cell_type": "markdown",
   "id": "e00e52eb",
   "metadata": {},
   "source": [
    "## Introduction\n",
    "This analysis seeks to determine what factors contribute to forest fires in order to better protect from and potentially predict them, particularly in climates like California's, a state famous for forest fires. Understanding factors that can lead to forest fires is the first step to taking preventatuive measures when those factors are present, or even using modern technology such as satellites to predict conditions that make fires more likely. Prior work on this subject and this particular dataset include a study done by Cortez and Morais in 2007 for the Portuguese Conference on Artificial Intelligence. Specifically, their work takes a look at data mining techniques like Random Forests and Gaussian support vector machines (SVMs) to run predictive analysis on the burned area of forest fires. Their study found that SVMs better predict small fires than Random Forest, using two different regression measures in their comparison (Mean absolute deviation and root mean squared error). This study focuses more on the factors themselves rather than trying to predict fire behavior. "
   ]
  },
  {
   "cell_type": "markdown",
   "id": "6f2d04be",
   "metadata": {},
   "source": [
    "## Methods\n",
    "\n",
    "### Dataset\n",
    "This dataset, provided by the University of California at Irvine's machine learning repository, contains information about 517 forest fires from the Montesinho natural park in the Tr´as-os-Montes northeast region of Portugal, collected using meteorological and other data. Located within a supra-Mediterranean climate, the average annual temperature is within the range 8 to 12◦C. The data used in the experiments was collected from January 2000 to December 2003 and it was built using two sources. The first database was collected by the inspector that was responsible for the Montesinho fire occurrences. The second database was collected by the Braganc¸a Polytechnic Institute, containing weather observations recorded with a 30 minute period by a meteorological station located in the center of the park. Manual labor was used to consolidate the 2 databases into the 517 rows of this dataset(Cortez, Morais 2007). For each fire, 12 features are noted: \n",
    "1. X - x-axis spatial coordinate within the Montesinho park map: 1 to 9\n",
    "2. Y - y-axis spatial coordinate within the Montesinho park map: 2 to 9\n",
    "3. month - month of the year: 'jan' to 'dec' \n",
    "4. day - day of the week: 'mon' to 'sun'\n",
    "5. FFMC - FFMC index from the FWI system: 18.7 to 96.20\n",
    "6. DMC - DMC index from the FWI system: 1.1 to 291.3 \n",
    "7. DC - DC index from the FWI system: 7.9 to 860.6 \n",
    "8. ISI - ISI index from the FWI system: 0.0 to 56.10\n",
    "9. temp - temperature in Celsius degrees: 2.2 to 33.30\n",
    "10. RH - relative humidity in %: 15.0 to 100\n",
    "11. wind - wind speed in km/h: 0.40 to 9.40 \n",
    "12. rain - outside rain in mm/m2 : 0.0 to 6.4 \n",
    "13. area - the burned area of the forest (in ha): 0.00 to 1090.84 \n",
    "\n",
    "For the purposes of this project, we will be focusing on features 3, 9, 10, and 11, and comparing each to feature 13 to get an understanding of the degree of severity of the fire for a given feature. \n",
    "\n",
    "This dataset is not without its problems. Namely, there is a lack of transparency from how this data was collected. It is unknown whether or not there were any privacy breaches during collection or if the data itself was gathered in a way that systematically ignore certain regions while prioritizing others. We don't know how the manual labor may have biased the data in favor of certain variables(for instance skewing in favor of one month over another based on the collector's preconceived notions). For this reason, any conclusions drawn through this analysis will be constrained to high-level, general ones rather than more specific statements. \n",
    "\n",
    "Although the dataset itself is specific to the northeast region of Portgual and this analysis aims to provide answers for California, conclusions can still be drawn due to specific similarities. Portugual and California both have a cool Mediterranean climate and similar weather patterns (KipperTree 2022). They also lie along similar latitudes (Becky 2016). These commonalities make it possible to make inferences on forest fire severity and likelihood, even though they are two completely separate places. \n",
    "\n",
    "### General Approach to Analysis\n",
    "Using Python, especially libraries such as Pandas and MatPlotLib, the dataset is appropriately modified to examine, analyze, and plot (as necessary) each of the 4 chosen variables and their relation to the overall area burned (a proxy to the severity of the fire). A lack of variance in the area burned at different values of each variable would indicate a lack of impact on the likelihood of a forest fire due to that variable, and vice versa. Understanding the data visualizations is key to forming conclusions in this analysis. "
   ]
  },
  {
   "cell_type": "markdown",
   "id": "56315305",
   "metadata": {},
   "source": [
    "#### Import the Dataset "
   ]
  },
  {
   "cell_type": "code",
   "execution_count": 1,
   "id": "63a018ad",
   "metadata": {},
   "outputs": [
    {
     "ename": "ModuleNotFoundError",
     "evalue": "No module named 'ucimlrepo'",
     "output_type": "error",
     "traceback": [
      "\u001b[0;31m---------------------------------------------------------------------------\u001b[0m",
      "\u001b[0;31mModuleNotFoundError\u001b[0m                       Traceback (most recent call last)",
      "Cell \u001b[0;32mIn[1], line 1\u001b[0m\n\u001b[0;32m----> 1\u001b[0m \u001b[38;5;28;01mfrom\u001b[39;00m \u001b[38;5;21;01mucimlrepo\u001b[39;00m \u001b[38;5;28;01mimport\u001b[39;00m fetch_ucirepo \n\u001b[1;32m      2\u001b[0m \u001b[38;5;28;01mimport\u001b[39;00m \u001b[38;5;21;01mpandas\u001b[39;00m \u001b[38;5;28;01mas\u001b[39;00m \u001b[38;5;21;01mpd\u001b[39;00m\n\u001b[1;32m      3\u001b[0m \u001b[38;5;28;01mimport\u001b[39;00m \u001b[38;5;21;01mmatplotlib\u001b[39;00m\u001b[38;5;21;01m.\u001b[39;00m\u001b[38;5;21;01mpyplot\u001b[39;00m \u001b[38;5;28;01mas\u001b[39;00m \u001b[38;5;21;01mplt\u001b[39;00m\n",
      "\u001b[0;31mModuleNotFoundError\u001b[0m: No module named 'ucimlrepo'"
     ]
    }
   ],
   "source": [
    "from ucimlrepo import fetch_ucirepo \n",
    "import pandas as pd\n",
    "import matplotlib.pyplot as plt\n",
    "  \n",
    "# fetch dataset \n",
    "forest_fires = fetch_ucirepo(id=162) \n",
    "  \n",
    "# data (as pandas dataframes) \n",
    "fullset = (forest_fires.data.features).join(forest_fires.data.targets)"
   ]
  },
  {
   "cell_type": "code",
   "execution_count": null,
   "id": "c0fbc8b1",
   "metadata": {},
   "outputs": [],
   "source": [
    "#| echo: false\n",
    "#Variable 1: Month of the year\n",
    "monthset = fullset[[\"month\",\"area\"]]\n",
    "\n",
    "#Create a bar graph to see how many fires per month\n",
    "months = ['jan', 'feb', 'mar', 'apr', 'may', 'jun', 'aug', 'sep', 'oct', 'nov', 'dec']\n",
    "month_tot = {}\n",
    "for month in months:\n",
    "  m = len(monthset.loc[monthset['month'] == month])\n",
    "  month_tot[month] = m\n",
    "\n",
    "plt.bar(month_tot.keys(), month_tot.values())\n",
    "plt.title(\"Number of Fires Per Month\")\n",
    "plt.xlabel(\"Month\")\n",
    "plt.ylabel(\"Number of Fires\")\n",
    "plt.show()\n",
    "\n",
    "#Create line plot to see on average the severity of fires per month\n",
    "month_avg = {}\n",
    "for month in months:\n",
    "  m = monthset.loc[monthset['month'] == month]\n",
    "  total = sum(m[\"area\"])\n",
    "  avg = total/len(m[\"area\"])\n",
    "  month_avg[month] = avg\n",
    "  \n",
    "\n",
    "plt.plot(month_avg.keys(), month_avg.values(), '-bo')\n",
    "plt.title(\"Average Area Burned per Month\")\n",
    "plt.xlabel(\"Month\")\n",
    "plt.ylabel(\"Avg Area (ha)\")\n",
    "plt.show()"
   ]
  },
  {
   "cell_type": "markdown",
   "id": "d117d4c8",
   "metadata": {},
   "source": [
    "### Analysis of Months Variable\n",
    "As one may expect, late summer/early months August and September had the highest number of forest fires by far, at 184 and 172 fires respectively. This correlates to the peak of \"fire season\" in California, where the summer sun dries out brush and shrubbery to make the perfect kindling for a fire. One notable outlier is March, with a whopping 54 fires. With a relatively temperate climate, it is unclear if this anomaly was caused by a particularly warm period between 2000-2003, or for some other reason. Other possibilites include intentionally set fires and fires lasting several months. We don't know if these fires are double counted; right now it is assumed all fires are unique. Traditionally warmer months, like late spring months of April and May as well as late summer/early fall months of August and September had the most severe fires, driven likely by a combination of a lack of moisture in the air and ground and high temperatures of those seasons. "
   ]
  },
  {
   "cell_type": "code",
   "execution_count": null,
   "id": "56f07afb",
   "metadata": {},
   "outputs": [],
   "source": [
    "#| echo: false\n",
    "#Variable 2: Temperature\n",
    "#Create histogram to show ranges of temps with highest number of fires\n",
    "tempset = fullset[['temp', 'area']]\n",
    "\n",
    "plt.hist(tempset['temp'], rwidth=0.7)\n",
    "plt.title(\"Number of Fires for a Range of Temperatures\")\n",
    "plt.xlabel(\"Temperature(C)\")\n",
    "plt.ylabel(\"Number of Fires\")\n",
    "plt.show()\n",
    "tempdict = {}\n",
    "for t in set(tempset['temp']):\n",
    "  te = tempset.loc[tempset['temp'] == t]\n",
    "  avg = sum(te['area'])/len(te['area'])\n",
    "  tempdict[t] = avg\n",
    "  \n",
    "plt.plot(tempdict.keys(), tempdict.values(), '-bo')\n",
    "plt.title(\"Average Burned Area for Temperature\")\n",
    "plt.xlabel(\"Temperature(C)\")\n",
    "plt.ylabel(\"Area Burned(ha)\")\n",
    "plt.show()"
   ]
  },
  {
   "cell_type": "markdown",
   "id": "27222118",
   "metadata": {},
   "source": [
    "### Analysis of Temperature Variable\n",
    "As expected, higher temperatures yielded more fires, but the shape of the graph above is interesting. One would expect a steady upward trend in the number of fires as the temperature grows. Instead, we see a skewed bell curve, with the majority of fires occuring when the temperature is between 15 - 25 degrees Celsius. From the data collectors, we know that this range falls 3-13 degrees higher than the normal high temperature of the region. To some degree however, the dropoff at temperature extreme highs makes sense. When the temperature is that high, people tend to be more careful, taking less risks and being hypervigilant for fire hazards. 15 degrees Celsius is about 59 degrees Farenheit, significantly cooler than 30 degrees Celsius(86 deg F). It stands to reason that as temperature dips slightly, people tend to let their guards down, leading to more risky and fire prone behavior. The observed temperature may also be impacted by cooling factors like wind. As oxygen adds fuel to a fire, a windier cool day poses significantly more fire risk than a warmer, less windy day. Temperature appears to have no bearing on how severe a fire is, as the trend for the bottom graph is a straight flat line. "
   ]
  },
  {
   "cell_type": "code",
   "execution_count": null,
   "id": "5d3bc75f",
   "metadata": {},
   "outputs": [],
   "source": [
    "#| echo: false\n",
    "#Variable 3: Relative Humidity\n",
    "\n",
    "#Create Average area burned line plot\n",
    "humset = fullset[['RH', 'area']]\n",
    "humdict = {}\n",
    "for hum in set(humset['RH']):\n",
    "  h = humset.loc[humset['RH'] == hum]\n",
    "  avg = sum(h['area'])/len(h['area'])\n",
    "  humdict[hum] = avg\n",
    "  \n",
    "plt.plot(humdict.keys(), humdict.values(), '-bo')\n",
    "plt.title(\"Average Area Burned by Relative Humidity\")\n",
    "plt.xlabel(\"Relative Humidity (%)\")\n",
    "plt.ylabel(\"Area Burned(ha)\")\n",
    "plt.show()\n",
    "\n",
    "plt.hist(humset[\"RH\"], rwidth=0.8)\n",
    "plt.title(\"Number of Fires for Relative Humidity\")\n",
    "plt.xlabel(\"Relative Humidity(%)\")\n",
    "plt.ylabel(\"Number of Fires\")\n",
    "plt.show()"
   ]
  },
  {
   "cell_type": "markdown",
   "id": "8dd8630d",
   "metadata": {},
   "source": [
    "### Analysis of Relative Humidity Variable\n",
    "Initially, I thought that with more moisture in the air, fires would be less severe as they would not be able to burn as intensely. However, the graph above dispels that notion. At practically every level of humidity, the impact on the severity of the fire seems to be very little, a rough oscillation around a straight flat line trend. However, the histogram reveals that skew we were anticipating. While humidity may not have a great impact on the severity of a fire, lower humidity means a greater fire risk than higher humidity. "
   ]
  },
  {
   "cell_type": "code",
   "execution_count": null,
   "id": "a8ece53f",
   "metadata": {},
   "outputs": [],
   "source": [
    "#| echo: false\n",
    "#Variable 4: Wind\n",
    "#Histogram of wind\n",
    "\n",
    "#Average Burned Line Plot\n",
    "windset = fullset[['wind', 'area']]\n",
    "winddict = {}\n",
    "for w in sorted(set(windset['wind'])):\n",
    "  wi = windset.loc[windset['wind'] == w]\n",
    "  avg = sum(wi['area'])/len(wi['area'])\n",
    "  winddict[w] = avg\n",
    "  \n",
    "plt.plot(winddict.keys(), winddict.values(), '-bo')\n",
    "plt.title(\"Average Area Burned by Wind\")\n",
    "plt.xlabel(\"Wind (kmph)\")\n",
    "plt.ylabel(\"Area Burned(ha)\")\n",
    "plt.show()\n",
    "\n",
    "plt.hist(windset[\"wind\"], rwidth=0.8)\n",
    "plt.title(\"Number of Fires for a Range of Wind Speeds\")\n",
    "plt.xlabel(\"Wind Speed(kmph)\")\n",
    "plt.ylabel(\"Number of Fires\")\n",
    "plt.show()"
   ]
  },
  {
   "cell_type": "markdown",
   "id": "bed1fd8b",
   "metadata": {},
   "source": [
    "### Analysis of Wind Variable\n",
    "There appears to be a Golidlocks spot of sorts where wind speeds create severe fires frequently. Both graphs have about the same shape, peaking at a range between 2 and 6 kilometers per hour. More or less than that and fires don't occur as often or as intensely. This makes some sense. Blowing too hard on a candle will extinguish it; it follows that for any fire, too much wind will kill it. Because fires need air to grow, too little wind also will not feed a fire enough before it dies. The sweet spot the data reveals gives the fire enough air to spread while not blowing hard enough to put it out completely. "
   ]
  },
  {
   "cell_type": "markdown",
   "id": "0c6562a6",
   "metadata": {},
   "source": [
    "## Discussion\n",
    "When looking at factors contributing to the overall severity and frequency of fires, many common assumptions were proven while surprising insights were revealed. When it comes to the time of year, our analysis of the months variable showed that as expected warmer months in late summer and early fall are at higher risk of intense fires. At temperatures between 15-25 deg Celsius,humidity between 20 and 50%, or wind speeds between 2 and 6 kmph, the risk of fire (severe or not) is increased. Whenever at least one of the above 4 factors is detected in the fire-prone range found, extra preventative precautions should be taken. Be it controlled burns of dense brush areas or creating empty land boundaries where the fire has nothing to burn, recognizing these factors is key to controlling or even preventing forest fires. Forest fires have caused billions of dollars of damages over the years, and have taken lives and livelihoods in the process. The reality is that forest fires will happen, but understanding how different environmental elements play into their occurence is important for adequate preparation and even prediction. "
   ]
  },
  {
   "cell_type": "markdown",
   "id": "fd70bc85",
   "metadata": {},
   "source": [
    "## References\n",
    "Cortez,Paulo and Morais,Anbal. (2008). Forest Fires. UCI Machine Learning Repository. [https://doi.org/10.24432/C5D88D](https://doi.org/10.24432/C5D88D).\n",
    "\n",
    "BeckyB. (2016). On the same latitude as San Francisco. BeckyInPortugal.com [https://beckyinportugal.com/2016/11/20/climate-latitude-weather-portugal/](https://beckyinportugal.com/2016/11/20/climate-latitude-weather-portugal/)\n",
    "\n",
    "KipperTree. (2022). Is Portugal The California Of Europe. [https://kippertree.com/blogs/is-portugal-the-california-of-europe](https://kippertree.com/blogs/is-portugal-the-california-of-europe#:~:text=While%20Portugal%20is%20in%20Europe,also%20winter%20is%20less%20harsh)."
   ]
  }
 ],
 "metadata": {
  "kernelspec": {
   "display_name": "Python 3 (ipykernel)",
   "language": "python",
   "name": "python3"
  },
  "language_info": {
   "codemirror_mode": {
    "name": "ipython",
    "version": 3
   },
   "file_extension": ".py",
   "mimetype": "text/x-python",
   "name": "python",
   "nbconvert_exporter": "python",
   "pygments_lexer": "ipython3",
   "version": "3.11.6"
  }
 },
 "nbformat": 4,
 "nbformat_minor": 5
}
